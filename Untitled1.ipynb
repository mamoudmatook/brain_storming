{
 "cells": [
  {
   "cell_type": "code",
   "execution_count": 24,
   "metadata": {},
   "outputs": [],
   "source": [
    "import networkx as nx\n",
    "import pygraphviz as pgv\n",
    "from nxpd import draw, nxpdParams\n",
    "nxpdParams['show'] = 'ipynb'"
   ]
  },
  {
   "cell_type": "code",
   "execution_count": 25,
   "metadata": {},
   "outputs": [],
   "source": [
    "from __future__ import division\n",
    "from pyparsing import (Literal, CaselessLiteral, Word, Combine, Group, Optional,\n",
    "                       ZeroOrMore, Forward, nums, alphas, oneOf)\n",
    "import math\n",
    "import operator\n",
    "\n",
    "__author__ = 'Paul McGuire'\n",
    "__version__ = '$Revision: 0.0 $'\n",
    "__date__ = '$Date: 2009-03-20 $'\n",
    "__source__ = '''http://pyparsing.wikispaces.com/file/view/fourFn.py\n",
    "http://pyparsing.wikispaces.com/message/view/home/15549426\n",
    "'''\n",
    "__note__ = '''\n",
    "All I've done is rewrap Paul McGuire's fourFn.py as a class, so I can use it\n",
    "more easily in other places.\n",
    "'''\n",
    "\n",
    "\n",
    "class NumericStringParser(object):\n",
    "    '''\n",
    "    Most of this code comes from the fourFn.py pyparsing example\n",
    "\n",
    "    '''\n",
    "\n",
    "    def pushFirst(self, strg, loc, toks):\n",
    "        self.exprStack.append(toks[0])\n",
    "\n",
    "    def pushUMinus(self, strg, loc, toks):\n",
    "        if toks and toks[0] == '-':\n",
    "            self.exprStack.append('unary -')\n",
    "\n",
    "    def __init__(self):\n",
    "        \"\"\"\n",
    "        expop   :: '^'\n",
    "        multop  :: '*' | '/'\n",
    "        addop   :: '+' | '-'\n",
    "        integer :: ['+' | '-'] '0'..'9'+\n",
    "        atom    :: PI | E | real | fn '(' expr ')' | '(' expr ')'\n",
    "        factor  :: atom [ expop factor ]*\n",
    "        term    :: factor [ multop factor ]*\n",
    "        expr    :: term [ addop term ]*\n",
    "        \"\"\"\n",
    "        point = Literal(\".\")\n",
    "        e = CaselessLiteral(\"E\")\n",
    "        fnumber = Combine(Word(\"+-\" + nums, nums) +\n",
    "                          Optional(point + Optional(Word(nums))) +\n",
    "                          Optional(e + Word(\"+-\" + nums, nums)))\n",
    "        ident = Word(alphas, alphas + nums + \"_$\")\n",
    "        plus = Literal(\"+\")\n",
    "        minus = Literal(\"-\")\n",
    "        mult = Literal(\"*\")\n",
    "        div = Literal(\"/\")\n",
    "        lpar = Literal(\"(\").suppress()\n",
    "        rpar = Literal(\")\").suppress()\n",
    "        addop = plus | minus\n",
    "        multop = mult | div\n",
    "        expop = Literal(\"^\")\n",
    "        pi = CaselessLiteral(\"PI\")\n",
    "        expr = Forward()\n",
    "        atom = ((Optional(oneOf(\"- +\")) +\n",
    "                 (ident + lpar + expr + rpar | pi | e | fnumber).setParseAction(self.pushFirst))\n",
    "                | Optional(oneOf(\"- +\")) + Group(lpar + expr + rpar)\n",
    "                ).setParseAction(self.pushUMinus)\n",
    "        # by defining exponentiation as \"atom [ ^ factor ]...\" instead of\n",
    "        # \"atom [ ^ atom ]...\", we get right-to-left exponents, instead of left-to-right\n",
    "        # that is, 2^3^2 = 2^(3^2), not (2^3)^2.\n",
    "        factor = Forward()\n",
    "        factor << atom + \\\n",
    "            ZeroOrMore((expop + factor).setParseAction(self.pushFirst))\n",
    "        term = factor + \\\n",
    "            ZeroOrMore((multop + factor).setParseAction(self.pushFirst))\n",
    "        expr << term + \\\n",
    "            ZeroOrMore((addop + term).setParseAction(self.pushFirst))\n",
    "        # addop_term = ( addop + term ).setParseAction( self.pushFirst )\n",
    "        # general_term = term + ZeroOrMore( addop_term ) | OneOrMore( addop_term)\n",
    "        # expr <<  general_term\n",
    "        self.bnf = expr\n",
    "        # map operator symbols to corresponding arithmetic operations\n",
    "        epsilon = 1e-12\n",
    "        self.opn = {\"+\": operator.add,\n",
    "                    \"-\": operator.sub,\n",
    "                    \"*\": operator.mul,\n",
    "                    \"/\": operator.truediv,\n",
    "                    \"^\": operator.pow}\n",
    "        self.fn = {\"sin\": math.sin,\n",
    "                   \"cos\": math.cos,\n",
    "                   \"tan\": math.tan,\n",
    "                   \"exp\": math.exp,\n",
    "                   \"abs\": abs,\n",
    "                   \"trunc\": lambda a: int(a),\n",
    "                   \"round\": round,\n",
    "                   \"sgn\": lambda a: abs(a) > epsilon and cmp(a, 0) or 0}\n",
    "\n",
    "    def evaluateStack(self, s):\n",
    "        op = s.pop()\n",
    "        if op == 'unary -':\n",
    "            return -self.evaluateStack(s)\n",
    "        if op in \"+-*/^\":\n",
    "            op2 = self.evaluateStack(s)\n",
    "            op1 = self.evaluateStack(s)\n",
    "            return self.opn[op](op1, op2)\n",
    "        elif op == \"PI\":\n",
    "            return math.pi  # 3.1415926535\n",
    "        elif op == \"E\":\n",
    "            return math.e  # 2.718281828\n",
    "        elif op in self.fn:\n",
    "            return self.fn[op](self.evaluateStack(s))\n",
    "        elif op[0].isalpha():\n",
    "            return 0\n",
    "        else:\n",
    "            return float(op)\n",
    "\n",
    "    def eval(self, num_string, parseAll=True):\n",
    "        self.exprStack = []\n",
    "        results = self.bnf.parseString(num_string, parseAll)\n",
    "        val = self.evaluateStack(self.exprStack[:])\n",
    "        return val\n"
   ]
  },
  {
   "cell_type": "code",
   "execution_count": 26,
   "metadata": {},
   "outputs": [
    {
     "data": {
      "image/png": "[encoded data removed]",
      "text/plain": [
       "<IPython.core.display.Image object>"
      ]
     },
     "execution_count": 26,
     "metadata": {},
     "output_type": "execute_result"
    }
   ],
   "source": [
    "G = nx.DiGraph()\n",
    "G.add_edges_from([('1', '+2'), ('1', '*2'), ('+2', '+3'), ('+2', '*3'), ('*2', '+3'),('*2','*3'),('+3','+4'),('+3','*4'),('*3','+4'),('*3','*4'),('+4','+5'),('+4','*5'),('*4','+5'),('*4','*5')])\n",
    "draw(G)"
   ]
  },
  {
   "cell_type": "code",
   "execution_count": 27,
   "metadata": {},
   "outputs": [],
   "source": [
    "def find_all_paths(graph, start, path=[],mulsix=[]):\n",
    "    path = path + [start]\n",
    "    paths = [path]\n",
    "    if len(graph[start]) == 0:  # No neighbors\n",
    "        fun=\"\"\n",
    "        for l in path:\n",
    "            fun+=l\n",
    "        nsp = NumericStringParser()\n",
    "        result = nsp.eval(fun)\n",
    "        \n",
    "        if result%2==0:\n",
    "            print(result)\n",
    "            print(path)\n",
    "        \n",
    "        \n",
    "            \n",
    "        #if sum(path)%6==0:\n",
    "            #mulsix.append(path)\n",
    "            #pos = nx.spring_layout(G) \n",
    "            #path_edges = zip(path,path[1:])\n",
    "            #nx.draw_networkx_edges(G,pos,edgelist=path_edges,edge_color='r',width=10) \n",
    "    for node in graph[start]:\n",
    "        newpaths = find_all_paths(graph, node, path,mulsix)\n",
    "        for newpath in newpaths:\n",
    "            paths.append(newpath)\n",
    "    return mulsix"
   ]
  },
  {
   "cell_type": "code",
   "execution_count": 28,
   "metadata": {},
   "outputs": [
    {
     "name": "stdout",
     "output_type": "stream",
     "text": [
      "26.0\n",
      "['1', '+2', '+3', '+4', '*5']\n",
      "20.0\n",
      "['1', '+2', '+3', '*4', '+5']\n",
      "16.0\n",
      "['1', '+2', '*3', '+4', '+5']\n",
      "30.0\n",
      "['1', '+2', '*3', '*4', '+5']\n",
      "14.0\n",
      "['1', '*2', '+3', '+4', '+5']\n",
      "62.0\n",
      "['1', '*2', '+3', '*4', '*5']\n",
      "26.0\n",
      "['1', '*2', '*3', '+4', '*5']\n",
      "120.0\n",
      "['1', '*2', '*3', '*4', '*5']\n"
     ]
    },
    {
     "data": {
      "text/plain": [
       "[]"
      ]
     },
     "execution_count": 28,
     "metadata": {},
     "output_type": "execute_result"
    }
   ],
   "source": [
    "#mulsix=[]\n",
    "#paths=[]\n",
    "find_all_paths(G,'1',paths,mulsix)\n",
    "#print(mulsix)\n",
    "#for p in mulsix:\n",
    "#    for l in range(len(p)-1):\n",
    " #       G.add_edge(p[l],p[l+1],color='red')\n",
    "#draw(G,layout='circo')"
   ]
  },
  {
   "cell_type": "code",
   "execution_count": null,
   "metadata": {},
   "outputs": [],
   "source": []
  },
  {
   "cell_type": "code",
   "execution_count": null,
   "metadata": {},
   "outputs": [],
   "source": []
  }
 ],
 "metadata": {
  "kernelspec": {
   "display_name": "Python 3",
   "language": "python",
   "name": "python3"
  },
  "language_info": {
   "codemirror_mode": {
    "name": "ipython",
    "version": 3
   },
   "file_extension": ".py",
   "mimetype": "text/x-python",
   "name": "python",
   "nbconvert_exporter": "python",
   "pygments_lexer": "ipython3",
   "version": "3.7.2+"
  }
 },
 "nbformat": 4,
 "nbformat_minor": 2
}
